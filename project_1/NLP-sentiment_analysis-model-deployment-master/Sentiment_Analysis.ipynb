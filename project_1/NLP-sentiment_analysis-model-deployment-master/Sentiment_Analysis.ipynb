{
  "nbformat": 4,
  "nbformat_minor": 0,
  "metadata": {
    "accelerator": "GPU",
    "colab": {
      "name": "Sentiment-Analysis.ipynb",
      "provenance": [],
      "collapsed_sections": []
    },
    "kernelspec": {
      "display_name": "Python 3",
      "name": "python3"
    },
    "language_info": {
      "name": "python"
    }
  },
  "cells": [
    {
      "cell_type": "code",
      "metadata": {
        "colab": {
          "base_uri": "https://localhost:8080/"
        },
        "id": "b05K8Tov2yfN",
        "outputId": "1987d6d0-2929-4573-82d2-6c6291da2b16"
      },
      "source": [
        "!pip install contractions"
      ],
      "execution_count": null,
      "outputs": [
        {
          "output_type": "stream",
          "text": [
            "Collecting contractions\n",
            "  Downloading contractions-0.0.52-py2.py3-none-any.whl (7.2 kB)\n",
            "Collecting textsearch>=0.0.21\n",
            "  Downloading textsearch-0.0.21-py2.py3-none-any.whl (7.5 kB)\n",
            "Collecting pyahocorasick\n",
            "  Downloading pyahocorasick-1.4.2.tar.gz (321 kB)\n",
            "\u001b[K     |████████████████████████████████| 321 kB 7.3 MB/s \n",
            "\u001b[?25hCollecting anyascii\n",
            "  Downloading anyascii-0.2.0-py3-none-any.whl (283 kB)\n",
            "\u001b[K     |████████████████████████████████| 283 kB 61.7 MB/s \n",
            "\u001b[?25hBuilding wheels for collected packages: pyahocorasick\n",
            "  Building wheel for pyahocorasick (setup.py) ... \u001b[?25l\u001b[?25hdone\n",
            "  Created wheel for pyahocorasick: filename=pyahocorasick-1.4.2-cp37-cp37m-linux_x86_64.whl size=85454 sha256=176868beadc19a6803608e8ffc6d26410ed4ff426e112865f7ab04fa3b4b22c6\n",
            "  Stored in directory: /root/.cache/pip/wheels/25/19/a6/8f363d9939162782bb8439d886469756271abc01f76fbd790f\n",
            "Successfully built pyahocorasick\n",
            "Installing collected packages: pyahocorasick, anyascii, textsearch, contractions\n",
            "Successfully installed anyascii-0.2.0 contractions-0.0.52 pyahocorasick-1.4.2 textsearch-0.0.21\n"
          ],
          "name": "stdout"
        }
      ]
    },
    {
      "cell_type": "code",
      "metadata": {
        "colab": {
          "base_uri": "https://localhost:8080/"
        },
        "id": "XyDTur_OGgpM",
        "outputId": "9aa12b00-cd64-4e92-aa1a-509891c5b244"
      },
      "source": [
        "from google.colab import drive\n",
        "drive.mount('/content/drive')"
      ],
      "execution_count": null,
      "outputs": [
        {
          "output_type": "stream",
          "text": [
            "Mounted at /content/drive\n"
          ],
          "name": "stdout"
        }
      ]
    },
    {
      "cell_type": "code",
      "metadata": {
        "id": "EFPIUX1pOFIZ"
      },
      "source": [
        "# standard imports\n",
        "import pandas as pd\n",
        "import numpy as np\n",
        "import matplotlib.pyplot as plt\n",
        "import seaborn as sns\n",
        "import re\n",
        "\n",
        "# NLP Specific imports\n",
        "import nltk\n",
        "from nltk.corpus import stopwords\n",
        "from nltk.stem.porter import PorterStemmer\n",
        "from sklearn.model_selection import train_test_split\n",
        "\n",
        "import contractions"
      ],
      "execution_count": null,
      "outputs": []
    },
    {
      "cell_type": "code",
      "metadata": {
        "id": "4cxQorpcFW6L",
        "colab": {
          "base_uri": "https://localhost:8080/"
        },
        "outputId": "271ee32f-3559-4239-b40e-532f1995057f"
      },
      "source": [
        "!pip install contractions"
      ],
      "execution_count": null,
      "outputs": [
        {
          "output_type": "stream",
          "text": [
            "Requirement already satisfied: contractions in /usr/local/lib/python3.7/dist-packages (0.0.52)\n",
            "Requirement already satisfied: textsearch>=0.0.21 in /usr/local/lib/python3.7/dist-packages (from contractions) (0.0.21)\n",
            "Requirement already satisfied: pyahocorasick in /usr/local/lib/python3.7/dist-packages (from textsearch>=0.0.21->contractions) (1.4.2)\n",
            "Requirement already satisfied: anyascii in /usr/local/lib/python3.7/dist-packages (from textsearch>=0.0.21->contractions) (0.2.0)\n"
          ],
          "name": "stdout"
        }
      ]
    },
    {
      "cell_type": "markdown",
      "metadata": {
        "id": "Arf9KbM7Os3A"
      },
      "source": [
        "# Dummy Framweork to be followed\n",
        "* Load the data\n",
        "* Study the data so that we can understand it\n",
        "* Performing the EDA \n",
        "* Cleaning the tweets\n",
        "* Performing the EDA again\n",
        "* Saving the cleaned data\n",
        "* Choose a model\n",
        "* Train the model, Evaluate and save it\n",
        "* **Deploy**"
      ]
    },
    {
      "cell_type": "code",
      "metadata": {
        "colab": {
          "base_uri": "https://localhost:8080/",
          "height": 220
        },
        "id": "jZM7-EzHPgj3",
        "outputId": "adb745f7-577a-465b-8224-4ad06f360877"
      },
      "source": [
        "df = pd.read_csv('/content/drive/MyDrive/data/file.csv', encoding='ISO-8859-1')\n",
        "df.head()"
      ],
      "execution_count": null,
      "outputs": [
        {
          "output_type": "execute_result",
          "data": {
            "text/html": [
              "<div>\n",
              "<style scoped>\n",
              "    .dataframe tbody tr th:only-of-type {\n",
              "        vertical-align: middle;\n",
              "    }\n",
              "\n",
              "    .dataframe tbody tr th {\n",
              "        vertical-align: top;\n",
              "    }\n",
              "\n",
              "    .dataframe thead th {\n",
              "        text-align: right;\n",
              "    }\n",
              "</style>\n",
              "<table border=\"1\" class=\"dataframe\">\n",
              "  <thead>\n",
              "    <tr style=\"text-align: right;\">\n",
              "      <th></th>\n",
              "      <th>0</th>\n",
              "      <th>1467810369</th>\n",
              "      <th>Mon Apr 06 22:19:45 PDT 2009</th>\n",
              "      <th>NO_QUERY</th>\n",
              "      <th>_TheSpecialOne_</th>\n",
              "      <th>@switchfoot http://twitpic.com/2y1zl - Awww, that's a bummer.  You shoulda got David Carr of Third Day to do it. ;D</th>\n",
              "    </tr>\n",
              "  </thead>\n",
              "  <tbody>\n",
              "    <tr>\n",
              "      <th>0</th>\n",
              "      <td>0</td>\n",
              "      <td>1467810672</td>\n",
              "      <td>Mon Apr 06 22:19:49 PDT 2009</td>\n",
              "      <td>NO_QUERY</td>\n",
              "      <td>scotthamilton</td>\n",
              "      <td>is upset that he can't update his Facebook by ...</td>\n",
              "    </tr>\n",
              "    <tr>\n",
              "      <th>1</th>\n",
              "      <td>0</td>\n",
              "      <td>1467810917</td>\n",
              "      <td>Mon Apr 06 22:19:53 PDT 2009</td>\n",
              "      <td>NO_QUERY</td>\n",
              "      <td>mattycus</td>\n",
              "      <td>@Kenichan I dived many times for the ball. Man...</td>\n",
              "    </tr>\n",
              "    <tr>\n",
              "      <th>2</th>\n",
              "      <td>0</td>\n",
              "      <td>1467811184</td>\n",
              "      <td>Mon Apr 06 22:19:57 PDT 2009</td>\n",
              "      <td>NO_QUERY</td>\n",
              "      <td>ElleCTF</td>\n",
              "      <td>my whole body feels itchy and like its on fire</td>\n",
              "    </tr>\n",
              "    <tr>\n",
              "      <th>3</th>\n",
              "      <td>0</td>\n",
              "      <td>1467811193</td>\n",
              "      <td>Mon Apr 06 22:19:57 PDT 2009</td>\n",
              "      <td>NO_QUERY</td>\n",
              "      <td>Karoli</td>\n",
              "      <td>@nationwideclass no, it's not behaving at all....</td>\n",
              "    </tr>\n",
              "    <tr>\n",
              "      <th>4</th>\n",
              "      <td>0</td>\n",
              "      <td>1467811372</td>\n",
              "      <td>Mon Apr 06 22:20:00 PDT 2009</td>\n",
              "      <td>NO_QUERY</td>\n",
              "      <td>joy_wolf</td>\n",
              "      <td>@Kwesidei not the whole crew</td>\n",
              "    </tr>\n",
              "  </tbody>\n",
              "</table>\n",
              "</div>"
            ],
            "text/plain": [
              "   0  ...  @switchfoot http://twitpic.com/2y1zl - Awww, that's a bummer.  You shoulda got David Carr of Third Day to do it. ;D\n",
              "0  0  ...  is upset that he can't update his Facebook by ...                                                                  \n",
              "1  0  ...  @Kenichan I dived many times for the ball. Man...                                                                  \n",
              "2  0  ...    my whole body feels itchy and like its on fire                                                                   \n",
              "3  0  ...  @nationwideclass no, it's not behaving at all....                                                                  \n",
              "4  0  ...                      @Kwesidei not the whole crew                                                                   \n",
              "\n",
              "[5 rows x 6 columns]"
            ]
          },
          "metadata": {},
          "execution_count": 5
        }
      ]
    },
    {
      "cell_type": "markdown",
      "metadata": {
        "id": "QHtXIl9ePz-P"
      },
      "source": [
        "Potential Problems : \n",
        "* No Colnames"
      ]
    },
    {
      "cell_type": "code",
      "metadata": {
        "id": "5WUwm3iNRAmv"
      },
      "source": [
        "# df.loc[-1] = df.columns.values\n",
        "# df.loc[-1]"
      ],
      "execution_count": null,
      "outputs": []
    },
    {
      "cell_type": "code",
      "metadata": {
        "id": "mScB0wzhQTov"
      },
      "source": [
        "# Shift data from column header and rename it\n",
        "df.loc[-1] = df.columns.values\n",
        "df.sort_index(inplace=True)\n",
        "df.reset_index(drop=True, inplace=True)\n",
        "\n",
        "df.rename(columns=\n",
        "    {\"0\": \"target\", \"1467810369\": \"id\", \"Mon Apr 06 22:19:45 PDT 2009\": \"date\", \"NO_QUERY\": \"query\", \"_TheSpecialOne_\": \"users\",\"@switchfoot http://twitpic.com/2y1zl - Awww, that's a bummer.  You shoulda got David Carr of Third Day to do it. ;D\":\"text\"},\n",
        "    inplace=True)"
      ],
      "execution_count": null,
      "outputs": []
    },
    {
      "cell_type": "code",
      "metadata": {
        "colab": {
          "base_uri": "https://localhost:8080/",
          "height": 203
        },
        "id": "exNQ-b8RQ5T3",
        "outputId": "15362bde-0085-4cf9-cc0a-952f092c6626"
      },
      "source": [
        "df.head()"
      ],
      "execution_count": null,
      "outputs": [
        {
          "output_type": "execute_result",
          "data": {
            "text/html": [
              "<div>\n",
              "<style scoped>\n",
              "    .dataframe tbody tr th:only-of-type {\n",
              "        vertical-align: middle;\n",
              "    }\n",
              "\n",
              "    .dataframe tbody tr th {\n",
              "        vertical-align: top;\n",
              "    }\n",
              "\n",
              "    .dataframe thead th {\n",
              "        text-align: right;\n",
              "    }\n",
              "</style>\n",
              "<table border=\"1\" class=\"dataframe\">\n",
              "  <thead>\n",
              "    <tr style=\"text-align: right;\">\n",
              "      <th></th>\n",
              "      <th>target</th>\n",
              "      <th>id</th>\n",
              "      <th>date</th>\n",
              "      <th>query</th>\n",
              "      <th>users</th>\n",
              "      <th>text</th>\n",
              "    </tr>\n",
              "  </thead>\n",
              "  <tbody>\n",
              "    <tr>\n",
              "      <th>0</th>\n",
              "      <td>0</td>\n",
              "      <td>1467810369</td>\n",
              "      <td>Mon Apr 06 22:19:45 PDT 2009</td>\n",
              "      <td>NO_QUERY</td>\n",
              "      <td>_TheSpecialOne_</td>\n",
              "      <td>@switchfoot http://twitpic.com/2y1zl - Awww, t...</td>\n",
              "    </tr>\n",
              "    <tr>\n",
              "      <th>1</th>\n",
              "      <td>0</td>\n",
              "      <td>1467810672</td>\n",
              "      <td>Mon Apr 06 22:19:49 PDT 2009</td>\n",
              "      <td>NO_QUERY</td>\n",
              "      <td>scotthamilton</td>\n",
              "      <td>is upset that he can't update his Facebook by ...</td>\n",
              "    </tr>\n",
              "    <tr>\n",
              "      <th>2</th>\n",
              "      <td>0</td>\n",
              "      <td>1467810917</td>\n",
              "      <td>Mon Apr 06 22:19:53 PDT 2009</td>\n",
              "      <td>NO_QUERY</td>\n",
              "      <td>mattycus</td>\n",
              "      <td>@Kenichan I dived many times for the ball. Man...</td>\n",
              "    </tr>\n",
              "    <tr>\n",
              "      <th>3</th>\n",
              "      <td>0</td>\n",
              "      <td>1467811184</td>\n",
              "      <td>Mon Apr 06 22:19:57 PDT 2009</td>\n",
              "      <td>NO_QUERY</td>\n",
              "      <td>ElleCTF</td>\n",
              "      <td>my whole body feels itchy and like its on fire</td>\n",
              "    </tr>\n",
              "    <tr>\n",
              "      <th>4</th>\n",
              "      <td>0</td>\n",
              "      <td>1467811193</td>\n",
              "      <td>Mon Apr 06 22:19:57 PDT 2009</td>\n",
              "      <td>NO_QUERY</td>\n",
              "      <td>Karoli</td>\n",
              "      <td>@nationwideclass no, it's not behaving at all....</td>\n",
              "    </tr>\n",
              "  </tbody>\n",
              "</table>\n",
              "</div>"
            ],
            "text/plain": [
              "  target  ...                                               text\n",
              "0      0  ...  @switchfoot http://twitpic.com/2y1zl - Awww, t...\n",
              "1      0  ...  is upset that he can't update his Facebook by ...\n",
              "2      0  ...  @Kenichan I dived many times for the ball. Man...\n",
              "3      0  ...    my whole body feels itchy and like its on fire \n",
              "4      0  ...  @nationwideclass no, it's not behaving at all....\n",
              "\n",
              "[5 rows x 6 columns]"
            ]
          },
          "metadata": {},
          "execution_count": 8
        }
      ]
    },
    {
      "cell_type": "code",
      "metadata": {
        "colab": {
          "base_uri": "https://localhost:8080/",
          "height": 203
        },
        "id": "bR9z5yMFQ7u3",
        "outputId": "d2794bb8-62af-407f-b96b-b4192387913a"
      },
      "source": [
        "# getting rid of un-necessary cols\n",
        "not_needed = ['id', 'date', 'query', 'users']\n",
        "df.drop(not_needed, inplace = True, axis = 1)\n",
        "df.head()"
      ],
      "execution_count": null,
      "outputs": [
        {
          "output_type": "execute_result",
          "data": {
            "text/html": [
              "<div>\n",
              "<style scoped>\n",
              "    .dataframe tbody tr th:only-of-type {\n",
              "        vertical-align: middle;\n",
              "    }\n",
              "\n",
              "    .dataframe tbody tr th {\n",
              "        vertical-align: top;\n",
              "    }\n",
              "\n",
              "    .dataframe thead th {\n",
              "        text-align: right;\n",
              "    }\n",
              "</style>\n",
              "<table border=\"1\" class=\"dataframe\">\n",
              "  <thead>\n",
              "    <tr style=\"text-align: right;\">\n",
              "      <th></th>\n",
              "      <th>target</th>\n",
              "      <th>text</th>\n",
              "    </tr>\n",
              "  </thead>\n",
              "  <tbody>\n",
              "    <tr>\n",
              "      <th>0</th>\n",
              "      <td>0</td>\n",
              "      <td>@switchfoot http://twitpic.com/2y1zl - Awww, t...</td>\n",
              "    </tr>\n",
              "    <tr>\n",
              "      <th>1</th>\n",
              "      <td>0</td>\n",
              "      <td>is upset that he can't update his Facebook by ...</td>\n",
              "    </tr>\n",
              "    <tr>\n",
              "      <th>2</th>\n",
              "      <td>0</td>\n",
              "      <td>@Kenichan I dived many times for the ball. Man...</td>\n",
              "    </tr>\n",
              "    <tr>\n",
              "      <th>3</th>\n",
              "      <td>0</td>\n",
              "      <td>my whole body feels itchy and like its on fire</td>\n",
              "    </tr>\n",
              "    <tr>\n",
              "      <th>4</th>\n",
              "      <td>0</td>\n",
              "      <td>@nationwideclass no, it's not behaving at all....</td>\n",
              "    </tr>\n",
              "  </tbody>\n",
              "</table>\n",
              "</div>"
            ],
            "text/plain": [
              "  target                                               text\n",
              "0      0  @switchfoot http://twitpic.com/2y1zl - Awww, t...\n",
              "1      0  is upset that he can't update his Facebook by ...\n",
              "2      0  @Kenichan I dived many times for the ball. Man...\n",
              "3      0    my whole body feels itchy and like its on fire \n",
              "4      0  @nationwideclass no, it's not behaving at all...."
            ]
          },
          "metadata": {},
          "execution_count": 9
        }
      ]
    },
    {
      "cell_type": "markdown",
      "metadata": {
        "id": "bNSJx-0WShDo"
      },
      "source": [
        "## Performing the EDA (1)\n"
      ]
    },
    {
      "cell_type": "code",
      "metadata": {
        "colab": {
          "base_uri": "https://localhost:8080/"
        },
        "id": "NfvGTl0xTemF",
        "outputId": "0a1ce5cd-f137-43df-d021-7e8c5c2b02c2"
      },
      "source": [
        "df.shape"
      ],
      "execution_count": null,
      "outputs": [
        {
          "output_type": "execute_result",
          "data": {
            "text/plain": [
              "(1600000, 2)"
            ]
          },
          "metadata": {},
          "execution_count": 10
        }
      ]
    },
    {
      "cell_type": "code",
      "metadata": {
        "colab": {
          "base_uri": "https://localhost:8080/"
        },
        "id": "qTWc-n0KToKP",
        "outputId": "b7616096-3a80-4b85-df95-ba78f02c2de1"
      },
      "source": [
        "df.size"
      ],
      "execution_count": null,
      "outputs": [
        {
          "output_type": "execute_result",
          "data": {
            "text/plain": [
              "3200000"
            ]
          },
          "metadata": {},
          "execution_count": 11
        }
      ]
    },
    {
      "cell_type": "code",
      "metadata": {
        "colab": {
          "base_uri": "https://localhost:8080/"
        },
        "id": "dZekdHw_TqW3",
        "outputId": "5537d610-c918-401a-bb3e-c0a0de080487"
      },
      "source": [
        "df.target.nunique()"
      ],
      "execution_count": null,
      "outputs": [
        {
          "output_type": "execute_result",
          "data": {
            "text/plain": [
              "3"
            ]
          },
          "metadata": {},
          "execution_count": 12
        }
      ]
    },
    {
      "cell_type": "code",
      "metadata": {
        "colab": {
          "base_uri": "https://localhost:8080/"
        },
        "id": "pq0lIggoTug3",
        "outputId": "4539e03c-aca9-43b9-ce72-3114c46b4dbe"
      },
      "source": [
        "df.target.value_counts()"
      ],
      "execution_count": null,
      "outputs": [
        {
          "output_type": "execute_result",
          "data": {
            "text/plain": [
              "4    800000\n",
              "0    799999\n",
              "0         1\n",
              "Name: target, dtype: int64"
            ]
          },
          "metadata": {},
          "execution_count": 13
        }
      ]
    },
    {
      "cell_type": "code",
      "metadata": {
        "colab": {
          "base_uri": "https://localhost:8080/"
        },
        "id": "pbdhKwi3TxaN",
        "outputId": "fab5663b-519f-4051-9697-a165189a5c6a"
      },
      "source": [
        "df.target.dtype"
      ],
      "execution_count": null,
      "outputs": [
        {
          "output_type": "execute_result",
          "data": {
            "text/plain": [
              "dtype('O')"
            ]
          },
          "metadata": {},
          "execution_count": 14
        }
      ]
    },
    {
      "cell_type": "markdown",
      "metadata": {
        "id": "npbpj3pnU8HH"
      },
      "source": [
        "The datatype of the target variable is in `object` form.<br>\n",
        "Make the datatype as `int32` to save memory and further processing"
      ]
    },
    {
      "cell_type": "code",
      "metadata": {
        "id": "K4WlRb72T1EW"
      },
      "source": [
        "df.target = df.target.astype(np.int32)"
      ],
      "execution_count": null,
      "outputs": []
    },
    {
      "cell_type": "code",
      "metadata": {
        "colab": {
          "base_uri": "https://localhost:8080/"
        },
        "id": "8iP-dzzLT5vO",
        "outputId": "5ab3853d-7c57-40de-b6cd-c85277cddc64"
      },
      "source": [
        "df.target.dtype"
      ],
      "execution_count": null,
      "outputs": [
        {
          "output_type": "execute_result",
          "data": {
            "text/plain": [
              "dtype('int32')"
            ]
          },
          "metadata": {},
          "execution_count": 16
        }
      ]
    },
    {
      "cell_type": "code",
      "metadata": {
        "colab": {
          "base_uri": "https://localhost:8080/"
        },
        "id": "in7tbc7KUA23",
        "outputId": "79855ac2-8a0b-4940-d6c6-07ec362c30b1"
      },
      "source": [
        "df.target.value_counts()"
      ],
      "execution_count": null,
      "outputs": [
        {
          "output_type": "execute_result",
          "data": {
            "text/plain": [
              "4    800000\n",
              "0    800000\n",
              "Name: target, dtype: int64"
            ]
          },
          "metadata": {},
          "execution_count": 17
        }
      ]
    },
    {
      "cell_type": "code",
      "metadata": {
        "colab": {
          "base_uri": "https://localhost:8080/",
          "height": 262
        },
        "id": "bmA4aqVLUCbu",
        "outputId": "5075ed25-ff05-4c79-ab94-18496508ac80"
      },
      "source": [
        "df.target.value_counts().plot(kind = 'bar');"
      ],
      "execution_count": null,
      "outputs": [
        {
          "output_type": "display_data",
          "data": {
            "image/png": "[encoded data removed]",
            "text/plain": [
              "<Figure size 432x288 with 1 Axes>"
            ]
          },
          "metadata": {
            "needs_background": "light"
          }
        }
      ]
    },
    {
      "cell_type": "code",
      "metadata": {
        "colab": {
          "base_uri": "https://localhost:8080/"
        },
        "id": "dawPjgi3UGS2",
        "outputId": "955b143f-e3ed-40e2-8d98-de8045a76716"
      },
      "source": [
        "df.info()"
      ],
      "execution_count": null,
      "outputs": [
        {
          "output_type": "stream",
          "text": [
            "<class 'pandas.core.frame.DataFrame'>\n",
            "RangeIndex: 1600000 entries, 0 to 1599999\n",
            "Data columns (total 2 columns):\n",
            " #   Column  Non-Null Count    Dtype \n",
            "---  ------  --------------    ----- \n",
            " 0   target  1600000 non-null  int32 \n",
            " 1   text    1600000 non-null  object\n",
            "dtypes: int32(1), object(1)\n",
            "memory usage: 18.3+ MB\n"
          ],
          "name": "stdout"
        }
      ]
    },
    {
      "cell_type": "markdown",
      "metadata": {
        "id": "sawlw15pUnM4"
      },
      "source": [
        "## Cleaning the data\n",
        "Things to be cleaned :\n",
        "1. Get rid of hyperlinks\n",
        "2. Get rid of user mentions\n",
        "3. Get rid of `can't` etc like words and convert them to `can not` etc.\n",
        "4. Get rid of anything other than numbers\n",
        "5. Get rid of stop words (optional || No for now)"
      ]
    },
    {
      "cell_type": "code",
      "metadata": {
        "id": "IzrEkwkbVp1l"
      },
      "source": [
        "# 1. Getting rid of hyperlinks\n",
        "\n",
        "def remove_links(text):\n",
        "  \"\"\"\n",
        "  This function intakes the text data and removes the hyperlink from the text by using regex.\n",
        "  \"\"\"\n",
        "  return re.sub('((www.[^\\s]+)|(https?://[^\\s]+)|(http?://[^\\s]+))',' ',text)"
      ],
      "execution_count": null,
      "outputs": []
    },
    {
      "cell_type": "code",
      "metadata": {
        "id": "RQDkiK79Wr4-"
      },
      "source": [
        "# 2. Getting rid of user mentions\n",
        "\n",
        "def remove_mentions(text):\n",
        "  \"\"\"\n",
        "  This function intakes the text data and removes the user mentions from the text by using regex.\n",
        "  \"\"\"\n",
        "  return re.sub('((@[^\\s]+))',' ',text)"
      ],
      "execution_count": null,
      "outputs": []
    },
    {
      "cell_type": "code",
      "metadata": {
        "id": "VU8yXv8S-k2h"
      },
      "source": [
        "# 3. Removing contractions\n",
        "def remove_contractions(text):\n",
        "  \"\"\"\n",
        "  This function removes the contractions from the given text.\n",
        "  \"\"\"\n",
        "  return contractions.fix(text)"
      ],
      "execution_count": null,
      "outputs": []
    },
    {
      "cell_type": "code",
      "metadata": {
        "id": "_ahzVFk4ZCPQ"
      },
      "source": [
        "# 4. Getting rid of punctuations and any other things\n",
        "\n",
        "def remove_punctuations(text):\n",
        "  \"\"\"\n",
        "  This function intakes the text data and removes the punctuations from the text by using regex.\n",
        "  \"\"\"\n",
        "  return re.sub('[^a-zA-Z]',' ',text)"
      ],
      "execution_count": null,
      "outputs": []
    },
    {
      "cell_type": "code",
      "metadata": {
        "colab": {
          "base_uri": "https://localhost:8080/",
          "height": 203
        },
        "id": "3yuNxKi5_D69",
        "outputId": "0c7ed2a2-a720-41f4-a700-78c25112ed79"
      },
      "source": [
        "df.head()"
      ],
      "execution_count": null,
      "outputs": [
        {
          "output_type": "execute_result",
          "data": {
            "text/html": [
              "<div>\n",
              "<style scoped>\n",
              "    .dataframe tbody tr th:only-of-type {\n",
              "        vertical-align: middle;\n",
              "    }\n",
              "\n",
              "    .dataframe tbody tr th {\n",
              "        vertical-align: top;\n",
              "    }\n",
              "\n",
              "    .dataframe thead th {\n",
              "        text-align: right;\n",
              "    }\n",
              "</style>\n",
              "<table border=\"1\" class=\"dataframe\">\n",
              "  <thead>\n",
              "    <tr style=\"text-align: right;\">\n",
              "      <th></th>\n",
              "      <th>target</th>\n",
              "      <th>text</th>\n",
              "    </tr>\n",
              "  </thead>\n",
              "  <tbody>\n",
              "    <tr>\n",
              "      <th>0</th>\n",
              "      <td>0</td>\n",
              "      <td>@switchfoot http://twitpic.com/2y1zl - Awww, t...</td>\n",
              "    </tr>\n",
              "    <tr>\n",
              "      <th>1</th>\n",
              "      <td>0</td>\n",
              "      <td>is upset that he can't update his Facebook by ...</td>\n",
              "    </tr>\n",
              "    <tr>\n",
              "      <th>2</th>\n",
              "      <td>0</td>\n",
              "      <td>@Kenichan I dived many times for the ball. Man...</td>\n",
              "    </tr>\n",
              "    <tr>\n",
              "      <th>3</th>\n",
              "      <td>0</td>\n",
              "      <td>my whole body feels itchy and like its on fire</td>\n",
              "    </tr>\n",
              "    <tr>\n",
              "      <th>4</th>\n",
              "      <td>0</td>\n",
              "      <td>@nationwideclass no, it's not behaving at all....</td>\n",
              "    </tr>\n",
              "  </tbody>\n",
              "</table>\n",
              "</div>"
            ],
            "text/plain": [
              "   target                                               text\n",
              "0       0  @switchfoot http://twitpic.com/2y1zl - Awww, t...\n",
              "1       0  is upset that he can't update his Facebook by ...\n",
              "2       0  @Kenichan I dived many times for the ball. Man...\n",
              "3       0    my whole body feels itchy and like its on fire \n",
              "4       0  @nationwideclass no, it's not behaving at all...."
            ]
          },
          "metadata": {},
          "execution_count": 24
        }
      ]
    },
    {
      "cell_type": "code",
      "metadata": {
        "colab": {
          "base_uri": "https://localhost:8080/"
        },
        "id": "REFRFT0SCocI",
        "outputId": "40b1cfb9-88bf-4f58-d424-602f541e1c37"
      },
      "source": [
        "%%time\n",
        "# Cleaning the actual data\n",
        "df['text'] = df.text.apply(lambda x: remove_links(x))\n",
        "df['text'] = df.text.apply(lambda x: remove_mentions(x))\n",
        "df['text'] = df.text.apply(lambda x: remove_contractions(x))\n",
        "df['text'] = df.text.apply(lambda x: remove_punctuations(x))"
      ],
      "execution_count": null,
      "outputs": [
        {
          "output_type": "stream",
          "text": [
            "CPU times: user 26.1 s, sys: 237 ms, total: 26.4 s\n",
            "Wall time: 26.3 s\n"
          ],
          "name": "stdout"
        }
      ]
    },
    {
      "cell_type": "code",
      "metadata": {
        "colab": {
          "base_uri": "https://localhost:8080/",
          "height": 203
        },
        "id": "s_orYC4pDO6m",
        "outputId": "fa64d862-6b58-446d-9ce5-95076fb42c05"
      },
      "source": [
        "df.head()"
      ],
      "execution_count": null,
      "outputs": [
        {
          "output_type": "execute_result",
          "data": {
            "text/html": [
              "<div>\n",
              "<style scoped>\n",
              "    .dataframe tbody tr th:only-of-type {\n",
              "        vertical-align: middle;\n",
              "    }\n",
              "\n",
              "    .dataframe tbody tr th {\n",
              "        vertical-align: top;\n",
              "    }\n",
              "\n",
              "    .dataframe thead th {\n",
              "        text-align: right;\n",
              "    }\n",
              "</style>\n",
              "<table border=\"1\" class=\"dataframe\">\n",
              "  <thead>\n",
              "    <tr style=\"text-align: right;\">\n",
              "      <th></th>\n",
              "      <th>target</th>\n",
              "      <th>text</th>\n",
              "    </tr>\n",
              "  </thead>\n",
              "  <tbody>\n",
              "    <tr>\n",
              "      <th>0</th>\n",
              "      <td>0</td>\n",
              "      <td>Awww  that is a bummer   You shoulda got...</td>\n",
              "    </tr>\n",
              "    <tr>\n",
              "      <th>1</th>\n",
              "      <td>0</td>\n",
              "      <td>is upset that he cannot update his Facebook by...</td>\n",
              "    </tr>\n",
              "    <tr>\n",
              "      <th>2</th>\n",
              "      <td>0</td>\n",
              "      <td>I dived many times for the ball  Managed to ...</td>\n",
              "    </tr>\n",
              "    <tr>\n",
              "      <th>3</th>\n",
              "      <td>0</td>\n",
              "      <td>my whole body feels itchy and like its on fire</td>\n",
              "    </tr>\n",
              "    <tr>\n",
              "      <th>4</th>\n",
              "      <td>0</td>\n",
              "      <td>no  it is not behaving at all  I am mad  why...</td>\n",
              "    </tr>\n",
              "  </tbody>\n",
              "</table>\n",
              "</div>"
            ],
            "text/plain": [
              "   target                                               text\n",
              "0       0        Awww  that is a bummer   You shoulda got...\n",
              "1       0  is upset that he cannot update his Facebook by...\n",
              "2       0    I dived many times for the ball  Managed to ...\n",
              "3       0    my whole body feels itchy and like its on fire \n",
              "4       0    no  it is not behaving at all  I am mad  why..."
            ]
          },
          "metadata": {},
          "execution_count": 31
        }
      ]
    },
    {
      "cell_type": "markdown",
      "metadata": {
        "id": "7iV-k_H5DlQF"
      },
      "source": [
        "## Exporting the clean data"
      ]
    },
    {
      "cell_type": "code",
      "metadata": {
        "id": "FAS-YZkwEofZ"
      },
      "source": [
        "# df.to_csv(\"/content/drive/MyDrive/data/clean-data.csv\", index = False)"
      ],
      "execution_count": null,
      "outputs": []
    },
    {
      "cell_type": "code",
      "metadata": {
        "colab": {
          "base_uri": "https://localhost:8080/"
        },
        "id": "pgVJDSLaE0rt",
        "outputId": "ccfae30f-c622-43f9-d45e-bb0009a1388f"
      },
      "source": [
        "df = pd.read_csv(\"/content/drive/MyDrive/data/clean-data.csv\")\n",
        "df.info()"
      ],
      "execution_count": null,
      "outputs": [
        {
          "output_type": "stream",
          "text": [
            "<class 'pandas.core.frame.DataFrame'>\n",
            "RangeIndex: 1600000 entries, 0 to 1599999\n",
            "Data columns (total 2 columns):\n",
            " #   Column  Non-Null Count    Dtype \n",
            "---  ------  --------------    ----- \n",
            " 0   target  1600000 non-null  int64 \n",
            " 1   text    1600000 non-null  object\n",
            "dtypes: int64(1), object(1)\n",
            "memory usage: 24.4+ MB\n"
          ],
          "name": "stdout"
        }
      ]
    },
    {
      "cell_type": "code",
      "metadata": {
        "colab": {
          "base_uri": "https://localhost:8080/",
          "height": 203
        },
        "id": "EXjXlp0ncINK",
        "outputId": "5250e2bb-71cc-49ed-e402-609d3b0e9e2a"
      },
      "source": [
        "df.head()"
      ],
      "execution_count": null,
      "outputs": [
        {
          "output_type": "execute_result",
          "data": {
            "text/html": [
              "<div>\n",
              "<style scoped>\n",
              "    .dataframe tbody tr th:only-of-type {\n",
              "        vertical-align: middle;\n",
              "    }\n",
              "\n",
              "    .dataframe tbody tr th {\n",
              "        vertical-align: top;\n",
              "    }\n",
              "\n",
              "    .dataframe thead th {\n",
              "        text-align: right;\n",
              "    }\n",
              "</style>\n",
              "<table border=\"1\" class=\"dataframe\">\n",
              "  <thead>\n",
              "    <tr style=\"text-align: right;\">\n",
              "      <th></th>\n",
              "      <th>target</th>\n",
              "      <th>text</th>\n",
              "    </tr>\n",
              "  </thead>\n",
              "  <tbody>\n",
              "    <tr>\n",
              "      <th>0</th>\n",
              "      <td>0</td>\n",
              "      <td>Awww  that is a bummer   You shoulda got...</td>\n",
              "    </tr>\n",
              "    <tr>\n",
              "      <th>1</th>\n",
              "      <td>0</td>\n",
              "      <td>is upset that he cannot update his Facebook by...</td>\n",
              "    </tr>\n",
              "    <tr>\n",
              "      <th>2</th>\n",
              "      <td>0</td>\n",
              "      <td>I dived many times for the ball  Managed to ...</td>\n",
              "    </tr>\n",
              "    <tr>\n",
              "      <th>3</th>\n",
              "      <td>0</td>\n",
              "      <td>my whole body feels itchy and like its on fire</td>\n",
              "    </tr>\n",
              "    <tr>\n",
              "      <th>4</th>\n",
              "      <td>0</td>\n",
              "      <td>no  it is not behaving at all  I am mad  why...</td>\n",
              "    </tr>\n",
              "  </tbody>\n",
              "</table>\n",
              "</div>"
            ],
            "text/plain": [
              "   target                                               text\n",
              "0       0        Awww  that is a bummer   You shoulda got...\n",
              "1       0  is upset that he cannot update his Facebook by...\n",
              "2       0    I dived many times for the ball  Managed to ...\n",
              "3       0    my whole body feels itchy and like its on fire \n",
              "4       0    no  it is not behaving at all  I am mad  why..."
            ]
          },
          "metadata": {},
          "execution_count": 34
        }
      ]
    },
    {
      "cell_type": "markdown",
      "metadata": {
        "id": "yeJ5BqOGE4K8"
      },
      "source": [
        "## Trying to make a model on clean data"
      ]
    },
    {
      "cell_type": "code",
      "metadata": {
        "colab": {
          "base_uri": "https://localhost:8080/"
        },
        "id": "ZWoHyn6aFPt1",
        "outputId": "d57e8b0a-e7e1-40ca-a273-3fd0da128e89"
      },
      "source": [
        "st = PorterStemmer()\n",
        "def stemming_on_text(data):\n",
        "    text = [st.stem(word) for word in data]\n",
        "    return data\n",
        "    \n",
        "df['text']= df['text'].apply(lambda x: stemming_on_text(x))\n",
        "df['text'].head()"
      ],
      "execution_count": null,
      "outputs": [
        {
          "output_type": "execute_result",
          "data": {
            "text/plain": [
              "0          Awww  that is a bummer   You shoulda got...\n",
              "1    is upset that he cannot update his Facebook by...\n",
              "2      I dived many times for the ball  Managed to ...\n",
              "3      my whole body feels itchy and like its on fire \n",
              "4      no  it is not behaving at all  I am mad  why...\n",
              "Name: text, dtype: object"
            ]
          },
          "metadata": {},
          "execution_count": 35
        }
      ]
    },
    {
      "cell_type": "code",
      "metadata": {
        "id": "aYWnBsPhmk2X"
      },
      "source": [
        "# df.to_csv(\"/content/drive/MyDrive/data/Stemmed-clean-data.csv\", index = False)"
      ],
      "execution_count": null,
      "outputs": []
    },
    {
      "cell_type": "code",
      "metadata": {
        "colab": {
          "base_uri": "https://localhost:8080/"
        },
        "id": "W4s3lSV7nIr7",
        "outputId": "896ad755-354a-4cf6-bbf6-90368233908f"
      },
      "source": [
        "df = pd.read_csv(\"/content/drive/MyDrive/data/Stemmed-clean-data.csv\")\n",
        "df.info()"
      ],
      "execution_count": null,
      "outputs": [
        {
          "output_type": "stream",
          "text": [
            "<class 'pandas.core.frame.DataFrame'>\n",
            "RangeIndex: 1600000 entries, 0 to 1599999\n",
            "Data columns (total 2 columns):\n",
            " #   Column  Non-Null Count    Dtype \n",
            "---  ------  --------------    ----- \n",
            " 0   target  1600000 non-null  int64 \n",
            " 1   text    1600000 non-null  object\n",
            "dtypes: int64(1), object(1)\n",
            "memory usage: 24.4+ MB\n"
          ],
          "name": "stdout"
        }
      ]
    },
    {
      "cell_type": "code",
      "metadata": {
        "id": "SXgau75c8did"
      },
      "source": [
        "full_df = pd.DataFrame(df, columns = ['text'])"
      ],
      "execution_count": null,
      "outputs": []
    },
    {
      "cell_type": "code",
      "metadata": {
        "colab": {
          "base_uri": "https://localhost:8080/",
          "height": 203
        },
        "id": "9PYPAilz8qD1",
        "outputId": "741359e7-4977-4206-aa3a-9d3ae244dbf3"
      },
      "source": [
        "full_df.head()  "
      ],
      "execution_count": null,
      "outputs": [
        {
          "output_type": "execute_result",
          "data": {
            "text/html": [
              "<div>\n",
              "<style scoped>\n",
              "    .dataframe tbody tr th:only-of-type {\n",
              "        vertical-align: middle;\n",
              "    }\n",
              "\n",
              "    .dataframe tbody tr th {\n",
              "        vertical-align: top;\n",
              "    }\n",
              "\n",
              "    .dataframe thead th {\n",
              "        text-align: right;\n",
              "    }\n",
              "</style>\n",
              "<table border=\"1\" class=\"dataframe\">\n",
              "  <thead>\n",
              "    <tr style=\"text-align: right;\">\n",
              "      <th></th>\n",
              "      <th>text</th>\n",
              "    </tr>\n",
              "  </thead>\n",
              "  <tbody>\n",
              "    <tr>\n",
              "      <th>0</th>\n",
              "      <td>Awww  that is a bummer   You shoulda got...</td>\n",
              "    </tr>\n",
              "    <tr>\n",
              "      <th>1</th>\n",
              "      <td>is upset that he cannot update his Facebook by...</td>\n",
              "    </tr>\n",
              "    <tr>\n",
              "      <th>2</th>\n",
              "      <td>I dived many times for the ball  Managed to ...</td>\n",
              "    </tr>\n",
              "    <tr>\n",
              "      <th>3</th>\n",
              "      <td>my whole body feels itchy and like its on fire</td>\n",
              "    </tr>\n",
              "    <tr>\n",
              "      <th>4</th>\n",
              "      <td>no  it is not behaving at all  I am mad  why...</td>\n",
              "    </tr>\n",
              "  </tbody>\n",
              "</table>\n",
              "</div>"
            ],
            "text/plain": [
              "                                                text\n",
              "0        Awww  that is a bummer   You shoulda got...\n",
              "1  is upset that he cannot update his Facebook by...\n",
              "2    I dived many times for the ball  Managed to ...\n",
              "3    my whole body feels itchy and like its on fire \n",
              "4    no  it is not behaving at all  I am mad  why..."
            ]
          },
          "metadata": {},
          "execution_count": 39
        }
      ]
    },
    {
      "cell_type": "code",
      "metadata": {
        "id": "cqovJLC-_c9J"
      },
      "source": [
        "full_df = df['text'].tolist()\n",
        "# full_df[:50]"
      ],
      "execution_count": null,
      "outputs": []
    },
    {
      "cell_type": "code",
      "metadata": {
        "id": "yyIp0Fdn_sIq"
      },
      "source": [
        "from tensorflow.keras.preprocessing.text import one_hot\n",
        "from tensorflow.keras.preprocessing.sequence import pad_sequences\n",
        "from tensorflow.keras.models import Sequential\n",
        "from tensorflow.keras.layers import Embedding, LSTM, Bidirectional, Dense, Dropout"
      ],
      "execution_count": null,
      "outputs": []
    },
    {
      "cell_type": "code",
      "metadata": {
        "colab": {
          "base_uri": "https://localhost:8080/"
        },
        "id": "h17ndOrrAZ2A",
        "outputId": "7416b23f-bd3e-4584-8e6c-d5d1e6582794"
      },
      "source": [
        "vocabulary_size=10000\n",
        "onehot_representation=[one_hot(words, vocabulary_size) for words in full_df]\n",
        "onehot_representation[:20]"
      ],
      "execution_count": null,
      "outputs": [
        {
          "output_type": "execute_result",
          "data": {
            "text/plain": [
              "[[5675,\n",
              "  2124,\n",
              "  250,\n",
              "  6468,\n",
              "  231,\n",
              "  5669,\n",
              "  6519,\n",
              "  501,\n",
              "  7953,\n",
              "  4951,\n",
              "  9940,\n",
              "  3515,\n",
              "  758,\n",
              "  5530,\n",
              "  4076,\n",
              "  6454,\n",
              "  3990],\n",
              " [250,\n",
              "  2547,\n",
              "  2124,\n",
              "  4558,\n",
              "  2380,\n",
              "  4087,\n",
              "  127,\n",
              "  9831,\n",
              "  7012,\n",
              "  3543,\n",
              "  6454,\n",
              "  1587,\n",
              "  7873,\n",
              "  6212,\n",
              "  5080,\n",
              "  6468,\n",
              "  4619,\n",
              "  6283,\n",
              "  4306,\n",
              "  3250,\n",
              "  403],\n",
              " [7409,\n",
              "  7593,\n",
              "  6160,\n",
              "  891,\n",
              "  3298,\n",
              "  6347,\n",
              "  3303,\n",
              "  1775,\n",
              "  5530,\n",
              "  6705,\n",
              "  6347,\n",
              "  3913,\n",
              "  9847,\n",
              "  1377,\n",
              "  9940,\n",
              "  7401],\n",
              " [3195, 7014, 2066, 7729, 7357, 1587, 3705, 6578, 2886, 220],\n",
              " [2365,\n",
              "  6454,\n",
              "  250,\n",
              "  8978,\n",
              "  2722,\n",
              "  1721,\n",
              "  719,\n",
              "  7409,\n",
              "  3785,\n",
              "  6154,\n",
              "  3629,\n",
              "  3785,\n",
              "  7409,\n",
              "  7927,\n",
              "  1893,\n",
              "  7409,\n",
              "  2380,\n",
              "  1931,\n",
              "  5669,\n",
              "  719,\n",
              "  1735,\n",
              "  6725],\n",
              " [8978, 6347, 7014, 3387],\n",
              " [6745, 6468, 3201],\n",
              " [5290,\n",
              "  7865,\n",
              "  9522,\n",
              "  2365,\n",
              "  1931,\n",
              "  2964,\n",
              "  2448,\n",
              "  6468,\n",
              "  5779,\n",
              "  341,\n",
              "  6468,\n",
              "  5779,\n",
              "  8183,\n",
              "  7409,\n",
              "  3785,\n",
              "  5351,\n",
              "  7298,\n",
              "  2711,\n",
              "  250,\n",
              "  5669],\n",
              " [8135, 3394, 7304, 8978, 6365, 6454],\n",
              " [6508, 5028, 1634],\n",
              " [297, 1603, 2853, 8763, 7093, 6454, 250, 795],\n",
              " [7409, 2637, 6345, 2607, 3195, 7105],\n",
              " [7409,\n",
              "  8195,\n",
              "  8978,\n",
              "  2794,\n",
              "  5530,\n",
              "  7556,\n",
              "  6454,\n",
              "  1587,\n",
              "  7409,\n",
              "  1901,\n",
              "  6347,\n",
              "  4226,\n",
              "  7989,\n",
              "  6803,\n",
              "  9030],\n",
              " [6454,\n",
              "  6454,\n",
              "  6962,\n",
              "  277,\n",
              "  3629,\n",
              "  7409,\n",
              "  7304,\n",
              "  1242,\n",
              "  5669,\n",
              "  5003,\n",
              "  8695,\n",
              "  5530,\n",
              "  5028,\n",
              "  882],\n",
              " [7409,\n",
              "  3556,\n",
              "  6365,\n",
              "  5864,\n",
              "  6347,\n",
              "  9500,\n",
              "  3145,\n",
              "  7409,\n",
              "  7304,\n",
              "  8978,\n",
              "  6365,\n",
              "  6468,\n",
              "  9049,\n",
              "  8978,\n",
              "  4384,\n",
              "  468,\n",
              "  7053,\n",
              "  6472,\n",
              "  9074,\n",
              "  2637,\n",
              "  6468,\n",
              "  1117],\n",
              " [7409,\n",
              "  4750,\n",
              "  7409,\n",
              "  501,\n",
              "  5530,\n",
              "  7556,\n",
              "  6454,\n",
              "  6336,\n",
              "  5669,\n",
              "  7409,\n",
              "  5673,\n",
              "  5669,\n",
              "  1587,\n",
              "  2711,\n",
              "  6803,\n",
              "  6347,\n",
              "  7533],\n",
              " [144,\n",
              "  4806,\n",
              "  4946,\n",
              "  6747,\n",
              "  8661,\n",
              "  5028,\n",
              "  8114,\n",
              "  5530,\n",
              "  7556,\n",
              "  2886,\n",
              "  7393,\n",
              "  9045,\n",
              "  250,\n",
              "  8664,\n",
              "  575,\n",
              "  8978,\n",
              "  1377,\n",
              "  7063],\n",
              " [5284, 5530, 5580, 4354],\n",
              " [3565, 7409, 6365, 1965, 7385, 5530, 1931, 527, 1271, 6347, 8056],\n",
              " [1180, 1236, 4974, 5669, 4323, 1377, 9940, 6347, 4416, 1721, 4146]]"
            ]
          },
          "metadata": {},
          "execution_count": 42
        }
      ]
    },
    {
      "cell_type": "code",
      "metadata": {
        "colab": {
          "base_uri": "https://localhost:8080/"
        },
        "id": "gYk5kjXYAgL1",
        "outputId": "0b4a2c9c-6242-4dcf-9568-9a0288f99567"
      },
      "source": [
        "# Word Embedding\n",
        "sentence_length=30\n",
        "embedded_documents=pad_sequences(onehot_representation, padding='pre', maxlen=sentence_length)\n",
        "print(embedded_documents[:20])"
      ],
      "execution_count": null,
      "outputs": [
        {
          "output_type": "stream",
          "text": [
            "[[   0    0    0    0    0    0    0    0    0    0    0    0    0 5675\n",
            "  2124  250 6468  231 5669 6519  501 7953 4951 9940 3515  758 5530 4076\n",
            "  6454 3990]\n",
            " [   0    0    0    0    0    0    0    0    0  250 2547 2124 4558 2380\n",
            "  4087  127 9831 7012 3543 6454 1587 7873 6212 5080 6468 4619 6283 4306\n",
            "  3250  403]\n",
            " [   0    0    0    0    0    0    0    0    0    0    0    0    0    0\n",
            "  7409 7593 6160  891 3298 6347 3303 1775 5530 6705 6347 3913 9847 1377\n",
            "  9940 7401]\n",
            " [   0    0    0    0    0    0    0    0    0    0    0    0    0    0\n",
            "     0    0    0    0    0    0 3195 7014 2066 7729 7357 1587 3705 6578\n",
            "  2886  220]\n",
            " [   0    0    0    0    0    0    0    0 2365 6454  250 8978 2722 1721\n",
            "   719 7409 3785 6154 3629 3785 7409 7927 1893 7409 2380 1931 5669  719\n",
            "  1735 6725]\n",
            " [   0    0    0    0    0    0    0    0    0    0    0    0    0    0\n",
            "     0    0    0    0    0    0    0    0    0    0    0    0 8978 6347\n",
            "  7014 3387]\n",
            " [   0    0    0    0    0    0    0    0    0    0    0    0    0    0\n",
            "     0    0    0    0    0    0    0    0    0    0    0    0    0 6745\n",
            "  6468 3201]\n",
            " [   0    0    0    0    0    0    0    0    0    0 5290 7865 9522 2365\n",
            "  1931 2964 2448 6468 5779  341 6468 5779 8183 7409 3785 5351 7298 2711\n",
            "   250 5669]\n",
            " [   0    0    0    0    0    0    0    0    0    0    0    0    0    0\n",
            "     0    0    0    0    0    0    0    0    0    0 8135 3394 7304 8978\n",
            "  6365 6454]\n",
            " [   0    0    0    0    0    0    0    0    0    0    0    0    0    0\n",
            "     0    0    0    0    0    0    0    0    0    0    0    0    0 6508\n",
            "  5028 1634]\n",
            " [   0    0    0    0    0    0    0    0    0    0    0    0    0    0\n",
            "     0    0    0    0    0    0    0    0  297 1603 2853 8763 7093 6454\n",
            "   250  795]\n",
            " [   0    0    0    0    0    0    0    0    0    0    0    0    0    0\n",
            "     0    0    0    0    0    0    0    0    0    0 7409 2637 6345 2607\n",
            "  3195 7105]\n",
            " [   0    0    0    0    0    0    0    0    0    0    0    0    0    0\n",
            "     0 7409 8195 8978 2794 5530 7556 6454 1587 7409 1901 6347 4226 7989\n",
            "  6803 9030]\n",
            " [   0    0    0    0    0    0    0    0    0    0    0    0    0    0\n",
            "     0    0 6454 6454 6962  277 3629 7409 7304 1242 5669 5003 8695 5530\n",
            "  5028  882]\n",
            " [   0    0    0    0    0    0    0    0 7409 3556 6365 5864 6347 9500\n",
            "  3145 7409 7304 8978 6365 6468 9049 8978 4384  468 7053 6472 9074 2637\n",
            "  6468 1117]\n",
            " [   0    0    0    0    0    0    0    0    0    0    0    0    0 7409\n",
            "  4750 7409  501 5530 7556 6454 6336 5669 7409 5673 5669 1587 2711 6803\n",
            "  6347 7533]\n",
            " [   0    0    0    0    0    0    0    0    0    0    0    0  144 4806\n",
            "  4946 6747 8661 5028 8114 5530 7556 2886 7393 9045  250 8664  575 8978\n",
            "  1377 7063]\n",
            " [   0    0    0    0    0    0    0    0    0    0    0    0    0    0\n",
            "     0    0    0    0    0    0    0    0    0    0    0    0 5284 5530\n",
            "  5580 4354]\n",
            " [   0    0    0    0    0    0    0    0    0    0    0    0    0    0\n",
            "     0    0    0    0    0 3565 7409 6365 1965 7385 5530 1931  527 1271\n",
            "  6347 8056]\n",
            " [   0    0    0    0    0    0    0    0    0    0    0    0    0    0\n",
            "     0    0    0    0    0 1180 1236 4974 5669 4323 1377 9940 6347 4416\n",
            "  1721 4146]]\n"
          ],
          "name": "stdout"
        }
      ]
    },
    {
      "cell_type": "code",
      "metadata": {
        "colab": {
          "base_uri": "https://localhost:8080/"
        },
        "id": "9-3GeXdoAtks",
        "outputId": "674a5d18-db0b-4487-f9fa-3fc305112d18"
      },
      "source": [
        "# LSTM model\n",
        "dimension=64\n",
        "model_lstm=Sequential()\n",
        "model_lstm.add(Embedding(vocabulary_size, dimension, input_length=sentence_length))\n",
        "model_lstm.add(LSTM(100))\n",
        "model_lstm.add(Dense(1, activation='sigmoid'))\n",
        "model_lstm.compile(optimizer='adam', loss='binary_crossentropy', metrics=['accuracy'])\n",
        "print(model_lstm.summary())"
      ],
      "execution_count": null,
      "outputs": [
        {
          "output_type": "stream",
          "text": [
            "Model: \"sequential\"\n",
            "_________________________________________________________________\n",
            "Layer (type)                 Output Shape              Param #   \n",
            "=================================================================\n",
            "embedding (Embedding)        (None, 30, 64)            640000    \n",
            "_________________________________________________________________\n",
            "lstm (LSTM)                  (None, 100)               66000     \n",
            "_________________________________________________________________\n",
            "dense (Dense)                (None, 1)                 101       \n",
            "=================================================================\n",
            "Total params: 706,101\n",
            "Trainable params: 706,101\n",
            "Non-trainable params: 0\n",
            "_________________________________________________________________\n",
            "None\n"
          ],
          "name": "stdout"
        }
      ]
    },
    {
      "cell_type": "code",
      "metadata": {
        "id": "v8YmauR8A4a6"
      },
      "source": [
        "from sklearn.preprocessing import LabelEncoder\n",
        "y=df['target']\n",
        "le=LabelEncoder()\n",
        "y=le.fit_transform(y)\n",
        "type(y)\n",
        "np.unique(y, return_counts=True)\n",
        "X=np.array(embedded_documents)\n",
        "y=np.array(y)"
      ],
      "execution_count": null,
      "outputs": []
    },
    {
      "cell_type": "code",
      "metadata": {
        "id": "MRCdbIibBY83"
      },
      "source": [
        "X_train, X_test, y_train, y_test = train_test_split(X, y, test_size=0.2, random_state=0)"
      ],
      "execution_count": null,
      "outputs": []
    },
    {
      "cell_type": "code",
      "metadata": {
        "colab": {
          "base_uri": "https://localhost:8080/"
        },
        "id": "uusKAh-4BuFc",
        "outputId": "e1034db2-297f-42f6-be36-7b4729c51b7f"
      },
      "source": [
        "model_lstm.fit(X_train, y_train, validation_data=(X_test, y_test), epochs=5, batch_size=32)"
      ],
      "execution_count": null,
      "outputs": [
        {
          "output_type": "stream",
          "text": [
            "Epoch 1/5\n",
            "40000/40000 [==============================] - 206s 5ms/step - loss: 0.4308 - accuracy: 0.7987 - val_loss: 0.4037 - val_accuracy: 0.8142\n",
            "Epoch 2/5\n",
            "40000/40000 [==============================] - 198s 5ms/step - loss: 0.3887 - accuracy: 0.8233 - val_loss: 0.3934 - val_accuracy: 0.8204\n",
            "Epoch 3/5\n",
            "40000/40000 [==============================] - 197s 5ms/step - loss: 0.3657 - accuracy: 0.8365 - val_loss: 0.3923 - val_accuracy: 0.8220\n",
            "Epoch 4/5\n",
            "40000/40000 [==============================] - 196s 5ms/step - loss: 0.3466 - accuracy: 0.8466 - val_loss: 0.3949 - val_accuracy: 0.8213\n",
            "Epoch 5/5\n",
            "40000/40000 [==============================] - 196s 5ms/step - loss: 0.3296 - accuracy: 0.8561 - val_loss: 0.4051 - val_accuracy: 0.8191\n"
          ],
          "name": "stdout"
        },
        {
          "output_type": "execute_result",
          "data": {
            "text/plain": [
              "<keras.callbacks.History at 0x7fceae0ffc50>"
            ]
          },
          "metadata": {},
          "execution_count": 47
        }
      ]
    },
    {
      "cell_type": "code",
      "metadata": {
        "id": "oGU3Hu0CB73Q"
      },
      "source": [
        "y_preds = model_lstm.predict(X_test)"
      ],
      "execution_count": null,
      "outputs": []
    },
    {
      "cell_type": "code",
      "metadata": {
        "colab": {
          "base_uri": "https://localhost:8080/"
        },
        "id": "0wOJwjC2CPRE",
        "outputId": "271036fd-e6e7-4ddf-8ed4-9e7b9d9f209a"
      },
      "source": [
        "from sklearn.metrics import classification_report\n",
        "print(classification_report(y_test, y_preds.round()))"
      ],
      "execution_count": null,
      "outputs": [
        {
          "output_type": "stream",
          "text": [
            "              precision    recall  f1-score   support\n",
            "\n",
            "           0       0.83      0.81      0.82    159815\n",
            "           1       0.81      0.83      0.82    160185\n",
            "\n",
            "    accuracy                           0.82    320000\n",
            "   macro avg       0.82      0.82      0.82    320000\n",
            "weighted avg       0.82      0.82      0.82    320000\n",
            "\n"
          ],
          "name": "stdout"
        }
      ]
    },
    {
      "cell_type": "code",
      "metadata": {
        "id": "k_r1HSBKWSsX"
      },
      "source": [
        ""
      ],
      "execution_count": null,
      "outputs": []
    }
  ]
}